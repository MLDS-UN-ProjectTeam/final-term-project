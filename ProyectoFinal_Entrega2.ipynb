{
 "cells": [
  {
   "cell_type": "markdown",
   "metadata": {
    "id": "2qrgS_sCJquS"
   },
   "source": [
    "<img src = \"./resources/images/header_banner_2.jpeg\" alt = \"Encabezado MLDS\" width = \"100%\"></img>"
   ]
  },
  {
   "cell_type": "markdown",
   "metadata": {
    "id": "a9669dfd"
   },
   "source": [
    "# **Entendimiento de los Datos**\n",
    "---"
   ]
  },
  {
   "cell_type": "markdown",
   "metadata": {
    "id": "fdb4c33d"
   },
   "source": [
    "## **0. Integrantes del equipo de trabajo**\n",
    "---"
   ]
  },
  {
   "cell_type": "markdown",
   "metadata": {
    "id": "ckNDI7ftUrpa"
   },
   "source": [
    "<table><thead>\n",
    "  <tr>\n",
    "    <th>#</th>\n",
    "    <th>Integrante</th>\n",
    "    <th>Documento de identidad</th>\n",
    "  </tr></thead>\n",
    "<tbody>\n",
    "  <tr>\n",
    "    <td>1</td>\n",
    "    <td>Laura Alejandra Díaz López</td>\n",
    "    <td>1010018062</td>\n",
    "  </tr>\n",
    "  <tr>\n",
    "    <td>2</td>\n",
    "    <td>Diego Alejandro Feliciano Ramos</td>\n",
    "    <td>1024586904</td>\n",
    "  </tr>\n",
    "  <tr>\n",
    "    <td>3</td>\n",
    "    <td>Geraldine Gracia Ruiz</td>\n",
    "    <td>1032488268</td>\n",
    "  </tr>\n",
    "</tbody>\n",
    "</table>"
   ]
  },
  {
   "cell_type": "markdown",
   "metadata": {
    "id": "qG-gA0MvzMTA"
   },
   "source": [
    "## **1. Carga de datos**\n",
    "---\n",
    "Dado que, en la entrega anterior se hicieron cambios que permitieron subir el conjunto de datos a un repositorio en GitHub se trabajará desde este mismo espacio. Por tanto se hará la descripción del proceso de descarga y carga de los datos al notebook: "
   ]
  },
  {
   "cell_type": "code",
   "metadata": {
    "id": "FxykiJtCzQl2",
    "ExecuteTime": {
     "end_time": "2024-09-11T21:36:09.889970Z",
     "start_time": "2024-09-11T21:36:05.220700Z"
    }
   },
   "source": [
    "!pip install wget\n",
    "import wget\n",
    "\n",
    "#Descargar el dataset del repositorio publico\n",
    "url = 'https://github.com/MLDS-UN-ProjectTeam/final-term-project/raw/main/resources/data/Saber_11_2023-2.zip?download='\n",
    "downloaded_file_name = 'Saber 11 2023-2.zip'\n",
    "wget.download(url = url, out = downloaded_file_name)\n",
    "decompressed_file_name = downloaded_file_name.replace('zip', 'csv')"
   ],
   "outputs": [],
   "execution_count": 2
  },
  {
   "metadata": {
    "ExecuteTime": {
     "end_time": "2024-09-11T21:36:18.171708Z",
     "start_time": "2024-09-11T21:36:12.389457Z"
    }
   },
   "cell_type": "code",
   "source": "!pip install unzip",
   "outputs": [
    {
     "name": "stdout",
     "output_type": "stream",
     "text": [
      "Requirement already satisfied: unzip in c:\\users\\geraldine\\documents\\github\\final-term-project\\venv\\lib\\site-packages (1.0.0)\n"
     ]
    },
    {
     "name": "stderr",
     "output_type": "stream",
     "text": [
      "\n",
      "[notice] A new release of pip is available: 23.2.1 -> 24.2\n",
      "[notice] To update, run: python.exe -m pip install --upgrade pip\n"
     ]
    }
   ],
   "execution_count": 3
  },
  {
   "cell_type": "code",
   "metadata": {
    "ExecuteTime": {
     "end_time": "2024-09-11T21:36:25.627667Z",
     "start_time": "2024-09-11T21:36:20.564523Z"
    }
   },
   "source": [
    "#Descomprimir el archivo descargado\n",
    "\n",
    "import zipfile\n",
    "\n",
    "with zipfile.ZipFile('Saber 11 2023-2.zip', 'r') as zip_ref:\n",
    "    zip_ref.extractall()"
   ],
   "outputs": [],
   "execution_count": 4
  },
  {
   "cell_type": "code",
   "metadata": {
    "ExecuteTime": {
     "end_time": "2024-09-11T21:48:10.102086Z",
     "start_time": "2024-09-11T21:36:29.800817Z"
    }
   },
   "source": [
    "import pandas as pd\n",
    "# Cargar en el notebook el conjunto de datos con las restricciones conocidas:\n",
    "# - Delimitador: ¬ \n",
    "# - Quoting = 3 => Sin comillas para todas las variables\n",
    "saber11_dataframe = pd.read_csv(decompressed_file_name, delimiter='¬', quoting=3, engine='python')"
   ],
   "outputs": [],
   "execution_count": 5
  },
  {
   "cell_type": "markdown",
   "metadata": {
    "id": "f6de2158"
   },
   "source": [
    "## **2. Análisis Exploratorio de los Datos**\n",
    "---"
   ]
  },
  {
   "cell_type": "markdown",
   "metadata": {
    "id": "20031c7b"
   },
   "source": [
    "### **2.1. Resumen General**\n",
    "---\n",
    "\n",
    "En nuestro _overview_ del dataset pudimos registrar los siguientes datos:\n",
    "- Formato: .csv\n",
    "- Cantidad de registros: 551149\n",
    "- Tamaño del archivo en MB comprimido: 71,3 MB\n",
    "- Tamaño del archivo en MB descomprimido: 448 MB\n",
    "- Tamaño del _dataset_ en memoria: 349 MB\n",
    "- Tamaño completo del _dataset_ en memoria: 2.0 GB"
   ]
  },
  {
   "cell_type": "code",
   "metadata": {
    "ExecuteTime": {
     "end_time": "2024-09-11T21:48:32.894198Z",
     "start_time": "2024-09-11T21:48:32.600667Z"
    }
   },
   "source": [
    "# Revisamos la salud del dataset cargado cargando los primeros 5 elementos del mismo\n",
    "saber11_dataframe.head()"
   ],
   "outputs": [
    {
     "data": {
      "text/plain": [
       "  ESTU_TIPODOCUMENTO ESTU_NACIONALIDAD ESTU_GENERO ESTU_FECHANACIMIENTO  \\\n",
       "0                 TI          COLOMBIA           M           04/09/2005   \n",
       "1                PPT         VENEZUELA           M           25/06/2005   \n",
       "2                 TI          COLOMBIA           M           11/09/2005   \n",
       "3                 TI          COLOMBIA           M           23/04/2005   \n",
       "4                 CC          COLOMBIA           M           27/10/2004   \n",
       "\n",
       "   PERIODO  ESTU_CONSECUTIVO ESTU_ESTUDIANTE ESTU_PAIS_RESIDE  \\\n",
       "0    20234  SB11202340372332      ESTUDIANTE         COLOMBIA   \n",
       "1    20234  SB11202340323904      ESTUDIANTE        VENEZUELA   \n",
       "2    20234  SB11202340344886      ESTUDIANTE         COLOMBIA   \n",
       "3    20234  SB11202340443426      ESTUDIANTE         COLOMBIA   \n",
       "4    20234  SB11202340425102      ESTUDIANTE         COLOMBIA   \n",
       "\n",
       "  ESTU_DEPTO_RESIDE  ESTU_COD_RESIDE_DEPTO  ... PUNT_INGLES  PERCENTIL_INGLES  \\\n",
       "0   NORTE SANTANDER                     54  ...        37.0              11.0   \n",
       "1              META                     50  ...        46.0              38.0   \n",
       "2            BOGOTÁ                     11  ...        45.0              32.0   \n",
       "3         ATLANTICO                      8  ...        82.0              99.0   \n",
       "4         RISARALDA                     66  ...        47.0              41.0   \n",
       "\n",
       "  DESEMP_INGLES PUNT_GLOBAL PERCENTIL_GLOBAL PERCENTIL_ESPECIAL_GLOBAL  \\\n",
       "0            A-         217             26.0                       NaN   \n",
       "1            A-         284             71.0                       NaN   \n",
       "2            A-         256             53.0                       NaN   \n",
       "3            B+         312             85.0                       NaN   \n",
       "4            A-         199             15.0                       NaN   \n",
       "\n",
       "  ESTU_INSE_INDIVIDUAL ESTU_NSE_INDIVIDUAL ESTU_NSE_ESTABLECIMIENTO  \\\n",
       "0            38.932020                 1.0                      2.0   \n",
       "1            36.627850                 1.0                      2.0   \n",
       "2            58.748110                 3.0                      2.0   \n",
       "3            44.546157                 2.0                      2.0   \n",
       "4            52.359566                 3.0                      3.0   \n",
       "\n",
       "  ESTU_ESTADOINVESTIGACION  \n",
       "0                 PUBLICAR  \n",
       "1                 PUBLICAR  \n",
       "2                 PUBLICAR  \n",
       "3                 PUBLICAR  \n",
       "4                 PUBLICAR  \n",
       "\n",
       "[5 rows x 83 columns]"
      ],
      "text/html": [
       "<div>\n",
       "<style scoped>\n",
       "    .dataframe tbody tr th:only-of-type {\n",
       "        vertical-align: middle;\n",
       "    }\n",
       "\n",
       "    .dataframe tbody tr th {\n",
       "        vertical-align: top;\n",
       "    }\n",
       "\n",
       "    .dataframe thead th {\n",
       "        text-align: right;\n",
       "    }\n",
       "</style>\n",
       "<table border=\"1\" class=\"dataframe\">\n",
       "  <thead>\n",
       "    <tr style=\"text-align: right;\">\n",
       "      <th></th>\n",
       "      <th>ESTU_TIPODOCUMENTO</th>\n",
       "      <th>ESTU_NACIONALIDAD</th>\n",
       "      <th>ESTU_GENERO</th>\n",
       "      <th>ESTU_FECHANACIMIENTO</th>\n",
       "      <th>PERIODO</th>\n",
       "      <th>ESTU_CONSECUTIVO</th>\n",
       "      <th>ESTU_ESTUDIANTE</th>\n",
       "      <th>ESTU_PAIS_RESIDE</th>\n",
       "      <th>ESTU_DEPTO_RESIDE</th>\n",
       "      <th>ESTU_COD_RESIDE_DEPTO</th>\n",
       "      <th>...</th>\n",
       "      <th>PUNT_INGLES</th>\n",
       "      <th>PERCENTIL_INGLES</th>\n",
       "      <th>DESEMP_INGLES</th>\n",
       "      <th>PUNT_GLOBAL</th>\n",
       "      <th>PERCENTIL_GLOBAL</th>\n",
       "      <th>PERCENTIL_ESPECIAL_GLOBAL</th>\n",
       "      <th>ESTU_INSE_INDIVIDUAL</th>\n",
       "      <th>ESTU_NSE_INDIVIDUAL</th>\n",
       "      <th>ESTU_NSE_ESTABLECIMIENTO</th>\n",
       "      <th>ESTU_ESTADOINVESTIGACION</th>\n",
       "    </tr>\n",
       "  </thead>\n",
       "  <tbody>\n",
       "    <tr>\n",
       "      <th>0</th>\n",
       "      <td>TI</td>\n",
       "      <td>COLOMBIA</td>\n",
       "      <td>M</td>\n",
       "      <td>04/09/2005</td>\n",
       "      <td>20234</td>\n",
       "      <td>SB11202340372332</td>\n",
       "      <td>ESTUDIANTE</td>\n",
       "      <td>COLOMBIA</td>\n",
       "      <td>NORTE SANTANDER</td>\n",
       "      <td>54</td>\n",
       "      <td>...</td>\n",
       "      <td>37.0</td>\n",
       "      <td>11.0</td>\n",
       "      <td>A-</td>\n",
       "      <td>217</td>\n",
       "      <td>26.0</td>\n",
       "      <td>NaN</td>\n",
       "      <td>38.932020</td>\n",
       "      <td>1.0</td>\n",
       "      <td>2.0</td>\n",
       "      <td>PUBLICAR</td>\n",
       "    </tr>\n",
       "    <tr>\n",
       "      <th>1</th>\n",
       "      <td>PPT</td>\n",
       "      <td>VENEZUELA</td>\n",
       "      <td>M</td>\n",
       "      <td>25/06/2005</td>\n",
       "      <td>20234</td>\n",
       "      <td>SB11202340323904</td>\n",
       "      <td>ESTUDIANTE</td>\n",
       "      <td>VENEZUELA</td>\n",
       "      <td>META</td>\n",
       "      <td>50</td>\n",
       "      <td>...</td>\n",
       "      <td>46.0</td>\n",
       "      <td>38.0</td>\n",
       "      <td>A-</td>\n",
       "      <td>284</td>\n",
       "      <td>71.0</td>\n",
       "      <td>NaN</td>\n",
       "      <td>36.627850</td>\n",
       "      <td>1.0</td>\n",
       "      <td>2.0</td>\n",
       "      <td>PUBLICAR</td>\n",
       "    </tr>\n",
       "    <tr>\n",
       "      <th>2</th>\n",
       "      <td>TI</td>\n",
       "      <td>COLOMBIA</td>\n",
       "      <td>M</td>\n",
       "      <td>11/09/2005</td>\n",
       "      <td>20234</td>\n",
       "      <td>SB11202340344886</td>\n",
       "      <td>ESTUDIANTE</td>\n",
       "      <td>COLOMBIA</td>\n",
       "      <td>BOGOTÁ</td>\n",
       "      <td>11</td>\n",
       "      <td>...</td>\n",
       "      <td>45.0</td>\n",
       "      <td>32.0</td>\n",
       "      <td>A-</td>\n",
       "      <td>256</td>\n",
       "      <td>53.0</td>\n",
       "      <td>NaN</td>\n",
       "      <td>58.748110</td>\n",
       "      <td>3.0</td>\n",
       "      <td>2.0</td>\n",
       "      <td>PUBLICAR</td>\n",
       "    </tr>\n",
       "    <tr>\n",
       "      <th>3</th>\n",
       "      <td>TI</td>\n",
       "      <td>COLOMBIA</td>\n",
       "      <td>M</td>\n",
       "      <td>23/04/2005</td>\n",
       "      <td>20234</td>\n",
       "      <td>SB11202340443426</td>\n",
       "      <td>ESTUDIANTE</td>\n",
       "      <td>COLOMBIA</td>\n",
       "      <td>ATLANTICO</td>\n",
       "      <td>8</td>\n",
       "      <td>...</td>\n",
       "      <td>82.0</td>\n",
       "      <td>99.0</td>\n",
       "      <td>B+</td>\n",
       "      <td>312</td>\n",
       "      <td>85.0</td>\n",
       "      <td>NaN</td>\n",
       "      <td>44.546157</td>\n",
       "      <td>2.0</td>\n",
       "      <td>2.0</td>\n",
       "      <td>PUBLICAR</td>\n",
       "    </tr>\n",
       "    <tr>\n",
       "      <th>4</th>\n",
       "      <td>CC</td>\n",
       "      <td>COLOMBIA</td>\n",
       "      <td>M</td>\n",
       "      <td>27/10/2004</td>\n",
       "      <td>20234</td>\n",
       "      <td>SB11202340425102</td>\n",
       "      <td>ESTUDIANTE</td>\n",
       "      <td>COLOMBIA</td>\n",
       "      <td>RISARALDA</td>\n",
       "      <td>66</td>\n",
       "      <td>...</td>\n",
       "      <td>47.0</td>\n",
       "      <td>41.0</td>\n",
       "      <td>A-</td>\n",
       "      <td>199</td>\n",
       "      <td>15.0</td>\n",
       "      <td>NaN</td>\n",
       "      <td>52.359566</td>\n",
       "      <td>3.0</td>\n",
       "      <td>3.0</td>\n",
       "      <td>PUBLICAR</td>\n",
       "    </tr>\n",
       "  </tbody>\n",
       "</table>\n",
       "<p>5 rows × 83 columns</p>\n",
       "</div>"
      ]
     },
     "execution_count": 6,
     "metadata": {},
     "output_type": "execute_result"
    }
   ],
   "execution_count": 6
  },
  {
   "cell_type": "code",
   "metadata": {
    "scrolled": true,
    "ExecuteTime": {
     "end_time": "2024-09-11T21:48:57.415548Z",
     "start_time": "2024-09-11T21:48:44.404031Z"
    }
   },
   "source": [
    "# Obtenemos un esbozo sobre la información del dataset y las columnas del mismo \n",
    "saber11_dataframe.info(memory_usage='deep')"
   ],
   "outputs": [
    {
     "name": "stdout",
     "output_type": "stream",
     "text": [
      "<class 'pandas.core.frame.DataFrame'>\n",
      "RangeIndex: 551149 entries, 0 to 551148\n",
      "Data columns (total 83 columns):\n",
      " #   Column                         Non-Null Count   Dtype  \n",
      "---  ------                         --------------   -----  \n",
      " 0   ESTU_TIPODOCUMENTO             551149 non-null  object \n",
      " 1   ESTU_NACIONALIDAD              551149 non-null  object \n",
      " 2   ESTU_GENERO                    551142 non-null  object \n",
      " 3   ESTU_FECHANACIMIENTO           551149 non-null  object \n",
      " 4   PERIODO                        551149 non-null  int64  \n",
      " 5   ESTU_CONSECUTIVO               551149 non-null  object \n",
      " 6   ESTU_ESTUDIANTE                551149 non-null  object \n",
      " 7   ESTU_PAIS_RESIDE               551149 non-null  object \n",
      " 8   ESTU_DEPTO_RESIDE              551149 non-null  object \n",
      " 9   ESTU_COD_RESIDE_DEPTO          551149 non-null  int64  \n",
      " 10  ESTU_MCPIO_RESIDE              551149 non-null  object \n",
      " 11  ESTU_COD_RESIDE_MCPIO          551149 non-null  int64  \n",
      " 12  ESTU_PRESENTACIONSABADO        550730 non-null  object \n",
      " 13  ESTU_LENGUANATIVA              9310 non-null    object \n",
      " 14  FAMI_ESTRATOVIVIENDA           502044 non-null  object \n",
      " 15  FAMI_PERSONASHOGAR             521995 non-null  object \n",
      " 16  FAMI_CUARTOSHOGAR              520813 non-null  object \n",
      " 17  FAMI_EDUCACIONPADRE            507970 non-null  object \n",
      " 18  FAMI_EDUCACIONMADRE            507699 non-null  object \n",
      " 19  FAMI_TRABAJOLABORPADRE         520538 non-null  object \n",
      " 20  FAMI_TRABAJOLABORMADRE         520843 non-null  object \n",
      " 21  FAMI_TIENEINTERNET             507241 non-null  object \n",
      " 22  FAMI_TIENECOMPUTADOR           521003 non-null  object \n",
      " 23  FAMI_TIENELAVADORA             521005 non-null  object \n",
      " 24  FAMI_TIENEHORNOMICROOGAS       520402 non-null  object \n",
      " 25  FAMI_TIENESERVICIOTV           505965 non-null  object \n",
      " 26  FAMI_TIENEAUTOMOVIL            519959 non-null  object \n",
      " 27  FAMI_TIENEMOTOCICLETA          520526 non-null  object \n",
      " 28  FAMI_TIENECONSOLAVIDEOJUEGOS   519752 non-null  object \n",
      " 29  FAMI_NUMLIBROS                 502656 non-null  object \n",
      " 30  FAMI_COMELECHEDERIVADOS        500550 non-null  object \n",
      " 31  FAMI_COMECARNEPESCADOHUEVO     505323 non-null  object \n",
      " 32  FAMI_COMECEREALFRUTOSLEGUMBRE  501915 non-null  object \n",
      " 33  FAMI_SITUACIONECONOMICA        518223 non-null  object \n",
      " 34  ESTU_DEDICACIONLECTURADIARIA   506245 non-null  object \n",
      " 35  ESTU_DEDICACIONINTERNET        505061 non-null  object \n",
      " 36  ESTU_HORASSEMANATRABAJA        520735 non-null  object \n",
      " 37  ESTU_TIPOREMUNERACION          519924 non-null  object \n",
      " 38  COLE_CODIGO_ICFES              551149 non-null  int64  \n",
      " 39  COLE_COD_DANE_ESTABLECIMIENTO  551149 non-null  int64  \n",
      " 40  COLE_NOMBRE_ESTABLECIMIENTO    551149 non-null  object \n",
      " 41  COLE_GENERO                    551149 non-null  object \n",
      " 42  COLE_NATURALEZA                551149 non-null  object \n",
      " 43  COLE_CALENDARIO                551149 non-null  object \n",
      " 44  COLE_BILINGUE                  448901 non-null  object \n",
      " 45  COLE_CARACTER                  528552 non-null  object \n",
      " 46  COLE_COD_DANE_SEDE             551149 non-null  int64  \n",
      " 47  COLE_NOMBRE_SEDE               551149 non-null  object \n",
      " 48  COLE_SEDE_PRINCIPAL            551149 non-null  object \n",
      " 49  COLE_AREA_UBICACION            551149 non-null  object \n",
      " 50  COLE_JORNADA                   551149 non-null  object \n",
      " 51  COLE_COD_MCPIO_UBICACION       551149 non-null  int64  \n",
      " 52  ESTU_GENERACION                551149 non-null  object \n",
      " 53  COLE_MCPIO_UBICACION           551149 non-null  object \n",
      " 54  COLE_COD_DEPTO_UBICACION       551149 non-null  int64  \n",
      " 55  COLE_DEPTO_UBICACION           551149 non-null  object \n",
      " 56  ESTU_PRIVADO_LIBERTAD          551149 non-null  object \n",
      " 57  ESTU_COD_MCPIO_PRESENTACION    551149 non-null  int64  \n",
      " 58  ESTU_MCPIO_PRESENTACION        551149 non-null  object \n",
      " 59  ESTU_DEPTO_PRESENTACION        551149 non-null  object \n",
      " 60  ESTU_COD_DEPTO_PRESENTACION    551149 non-null  int64  \n",
      " 61  PUNT_LECTURA_CRITICA           551149 non-null  int64  \n",
      " 62  PERCENTIL_LECTURA_CRITICA      551149 non-null  int64  \n",
      " 63  DESEMP_LECTURA_CRITICA         551149 non-null  int64  \n",
      " 64  PUNT_MATEMATICAS               551149 non-null  int64  \n",
      " 65  PERCENTIL_MATEMATICAS          551149 non-null  int64  \n",
      " 66  DESEMP_MATEMATICAS             551149 non-null  int64  \n",
      " 67  PUNT_C_NATURALES               551149 non-null  int64  \n",
      " 68  PERCENTIL_C_NATURALES          551149 non-null  int64  \n",
      " 69  DESEMP_C_NATURALES             551149 non-null  int64  \n",
      " 70  PUNT_SOCIALES_CIUDADANAS       551149 non-null  int64  \n",
      " 71  PERCENTIL_SOCIALES_CIUDADANAS  551149 non-null  int64  \n",
      " 72  DESEMP_SOCIALES_CIUDADANAS     551149 non-null  int64  \n",
      " 73  PUNT_INGLES                    548650 non-null  float64\n",
      " 74  PERCENTIL_INGLES               548650 non-null  float64\n",
      " 75  DESEMP_INGLES                  548650 non-null  object \n",
      " 76  PUNT_GLOBAL                    551149 non-null  int64  \n",
      " 77  PERCENTIL_GLOBAL               548650 non-null  float64\n",
      " 78  PERCENTIL_ESPECIAL_GLOBAL      43472 non-null   float64\n",
      " 79  ESTU_INSE_INDIVIDUAL           520696 non-null  float64\n",
      " 80  ESTU_NSE_INDIVIDUAL            520696 non-null  float64\n",
      " 81  ESTU_NSE_ESTABLECIMIENTO       551085 non-null  float64\n",
      " 82  ESTU_ESTADOINVESTIGACION       551149 non-null  object \n",
      "dtypes: float64(7), int64(23), object(53)\n",
      "memory usage: 1.8 GB\n"
     ]
    }
   ],
   "execution_count": 7
  },
  {
   "cell_type": "markdown",
   "metadata": {
    "id": "vz2WlImOY7wl"
   },
   "source": [
    "### **2.2. Análisis estadístico descriptivo**\n",
    "---\n",
    "\n",
    "Describa el conjunto de datos por medio de estadística descriptiva, aportando interpretaciones precisas que ayuden a entender los datos."
   ]
  },
  {
   "cell_type": "code",
   "metadata": {
    "id": "OxNu8JnAY7wm",
    "ExecuteTime": {
     "end_time": "2024-09-11T21:49:42.062979Z",
     "start_time": "2024-09-11T21:49:07.225260Z"
    }
   },
   "source": [
    "from ydata_profiling import ProfileReport\n",
    "profile = ProfileReport(saber11_dataframe)\n"
   ],
   "outputs": [],
   "execution_count": 8
  },
  {
   "metadata": {},
   "cell_type": "code",
   "outputs": [],
   "execution_count": null,
   "source": "profile.to_file('Saber 11 2023-2-Report.html')"
  },
  {
   "metadata": {},
   "cell_type": "markdown",
   "source": [
    "Algo importante a notar y tener en cuenta para este análisis estadístico descriptivo de los datos, es que se cuenta con pocas variables numéricas y, en cambio, varias de tipo categórico, por lo que se dificulta parte del uso de las herramientas disponibles. \n",
    "\n",
    "Se recurrirá entonces a la estrategía de convertir de categóricas a numéricas algunas variables de interés al reemplazar valores simples como \"sí\" o \"no\", por 1 o 0. "
   ]
  },
  {
   "metadata": {},
   "cell_type": "code",
   "outputs": [],
   "execution_count": null,
   "source": [
    "# TRANSFORMACIÓN DE ALGUNAS VARIABLES CATEGÓRICAS DE INTERÉS.\n",
    "\n",
    "# GENERO\n",
    "saber11_dataframe['ESTU_GENERO_N'] = saber11_dataframe['ESTU_GENERO'].map({'M': 0, 'F': 1})\n",
    "\n",
    "# 14 ESTRATO\n",
    "rangos_estrato = {\n",
    "    'Estrato 1': 1,\n",
    "    'Estrato 2': 2,\n",
    "    'Estrato 3': 3,\n",
    "    'Estrato 4': 4,\n",
    "    'Estrato 5': 5,\n",
    "    'Estrato 6': 6,\n",
    "    'Sin Estrato': 0\n",
    "}\n",
    "saber11_dataframe['FAMI_ESTRATOVIVIENDA_N'] = saber11_dataframe['FAMI_ESTRATOVIVIENDA'].map(rangos_estrato)\n",
    "\n",
    "\n",
    "# 15 PERSONAS QUE VIVEN EN EL HOGAR\n",
    "rangos_pers_hog = {\n",
    "    '1 a 2': 1.5,\n",
    "    '3 a 4': 3.5,\n",
    "    '5 a 6': 5.5,\n",
    "    '7 a 8': 7.5,\n",
    "    '9 o más': 9\n",
    "}\n",
    "saber11_dataframe['FAMI_PERSONASHOGAR_N'] = saber11_dataframe['FAMI_PERSONASHOGAR'].map(rangos_pers_hog)\n",
    "\n",
    "# TIENE INTERNET\n",
    "rangos_si_no = {\n",
    "    'Si': 1,\n",
    "    'No': 0\n",
    "}\n",
    "saber11_dataframe['FAMI_TIENEINTERNET_N'] = saber11_dataframe['FAMI_TIENEINTERNET'].map(rangos_si_no)\n",
    "\n",
    "# TIENE COMPUTADOR\n",
    "saber11_dataframe['FAMI_TIENECOMPUTADOR_N'] = saber11_dataframe['FAMI_TIENECOMPUTADOR'].map(rangos_si_no)\n",
    "\n",
    "# NÚMERO DE LIBROS EN LA FAMILIA\n",
    "saber11_dataframe['FAMI_NUMLIBROS']\n",
    "rangos_libros = {\n",
    "    '0 A 10 LIBROS' : 5,\n",
    "    '11 A 25 LIBROS' : 18,\n",
    "    '26 A 100 LIBROS' : 63,\n",
    "    'MÁS DE 100 LIBROS' : 150\n",
    "}\n",
    "saber11_dataframe['FAMI_NUMLIBROS_N'] = saber11_dataframe['FAMI_NUMLIBROS'].map(rangos_libros)\n",
    "\n",
    "# HORAS QUE TRABAJA SEMANALMENTE\n",
    "rangos_hor_tra = {\n",
    "    'Menos de 10 horas' : 5,\n",
    "    'Entre 11 y 20 horas' : 16,\n",
    "    'Entre 21 y 30 horas' : 26,\n",
    "    'Más de 30 horas' : 35\n",
    "}\n",
    "saber11_dataframe['ESTU_HORASSEMANATRABAJA_N'] = saber11_dataframe['ESTU_HORASSEMANATRABAJA'].map(rangos_hor_tra)\n",
    "\n",
    "#ESTUVO PRIVADO DE LA LIBERTAD\n",
    "rangos_n_s= {\n",
    "    'S' : 1,\n",
    "    'N' : 0\n",
    "}\n",
    "saber11_dataframe['ESTU_PRIVADO_LIBERTAD_N'] = saber11_dataframe['ESTU_PRIVADO_LIBERTAD'].map(rangos_n_s)"
   ]
  },
  {
   "metadata": {},
   "cell_type": "markdown",
   "source": "Ahora que se han convertido algunas de las variables de interés, se podrá proceder a hacer un análisis estadístico de ellas. Cabe notar que para hacer esta transformación fue necesario hacer varias estimaciones, pues varios de los datos son dados en rangos del estilo 'de 1 a 3 días', casos en los cuales se tomó la media."
  },
  {
   "metadata": {},
   "cell_type": "code",
   "outputs": [],
   "execution_count": null,
   "source": [
    "saber11_dataframe[['FAMI_ESTRATOVIVIENDA_N', 'ESTU_GENERO_N',\t'FAMI_PERSONASHOGAR_N',\t'FAMI_TIENEINTERNET_N',\t'FAMI_TIENECOMPUTADOR_N',\t'FAMI_NUMLIBROS_N',\t'ESTU_HORASSEMANATRABAJA_N',\t'ESTU_PRIVADO_LIBERTAD_N']].describe()\n",
    "# ADJUNTAR IMAGEN"
   ]
  },
  {
   "metadata": {},
   "cell_type": "markdown",
   "source": [
    "Con los datos obtenidos gracias al método 'describe' es posible llegar a varias conclusiones,respecto a las variables que describen principalmente factores socioeconómicos:\n",
    "\n",
    "-Para las variables categóricas de interés donde las posibles respuestas son solo dos se realizó una conversión donde el valor puede ser solo 0 o 1. La mayoría presenta una media de 0.5 junto a una desviación estándar similar, lo que indica que los datos están muy bien distribuídos entre las dos opciones, un parámetro importante a tener en cuenta.\n",
    "-La mayoría de variables de todo tipo presenta una desviación estándar aceptable considerando la media, el mínimo y el máximo, lo cual indica que se tiene un buen conjunto de datos con el cual trabajar.\n",
    "\n",
    "Por supuesto, otras de las variables más importantes a analizar son los resultados del examen."
   ]
  },
  {
   "metadata": {},
   "cell_type": "code",
   "outputs": [],
   "execution_count": null,
   "source": [
    "saber11_dataframe[['PUNT_LECTURA_CRITICA', 'PUNT_MATEMATICAS', 'PUNT_C_NATURALES', 'PUNT_SOCIALES_CIUDADANAS', 'PUNT_INGLES', 'PUNT_GLOBAL']].describe()\n",
    "# ADJUNTAR IMAGEN"
   ]
  },
  {
   "metadata": {},
   "cell_type": "markdown",
   "source": [
    "Al observar la descripción estadística de los puntajes del examen, es interesante ver como todas las componentes del mismo (matemáticas, lectura crítica, etc.) tienen tanto un promedio como una desviación estándar similares, dando a enteder que es fiable trabajar directamente con el puntaje global.\n",
    "\n",
    "Hablando particularmente del puntaje global, al tener un mínimo de 0, un máximo de 500, una media de aproximadamente 253 y una desviación estandar de 51.3 es clara la forma en que la mayoría de datos se encuentran cerca a la media, por lo que casos de muy buen o muy mal puntaje en el examen tendrán que verse como casos extraordinarios que valga la pena estudiar."
   ]
  },
  {
   "cell_type": "markdown",
   "metadata": {
    "id": "447ad6f5"
   },
   "source": [
    "### **2.3. Resumen de la Calidad de los datos**\n",
    "---\n",
    "\n",
    "- ¿Se detecta la ausencia de datos, la presencia de datos erróneos o la existencia de datos de baja calidad en el conjunto?\n",
    "- ¿Se identifican registros con datos ilegibles o con dificultades de codificación durante la revisión del conjunto de datos?\n",
    "- ¿Se observa una diversidad de formatos en el conjunto de datos que pueda dificultar su consistencia o comprensión?\n",
    "- ¿Se identificaron y abordaron posibles problemas, como valores atípicos, duplicados o datos faltantes?"
   ]
  },
  {
   "cell_type": "code",
   "execution_count": null,
   "metadata": {
    "id": "L7u_cP_tX5G7"
   },
   "outputs": [],
   "source": [
    "# ---INGRESE SU CÓDIGO---"
   ]
  },
  {
   "cell_type": "markdown",
   "metadata": {
    "id": "74f59e76"
   },
   "source": [
    "---**INGRESE SU RESPUESTA**---"
   ]
  },
  {
   "cell_type": "markdown",
   "metadata": {
    "id": "e90ec109"
   },
   "source": [
    "### **2.4. Tipos de variables**\n",
    "---\n",
    "\n",
    "- ¿El conjunto de datos tiene una variable objetivo a estimar?, de ser así, ¿es una variable continúa o categórica?\n",
    "- Analice la distribución de las etiquetas, identifique si hay desbalanceo de datos."
   ]
  },
  {
   "cell_type": "code",
   "execution_count": null,
   "metadata": {
    "id": "W8wdQuGMX50Q"
   },
   "outputs": [],
   "source": [
    "# ---INGRESE SU CÓDIGO---"
   ]
  },
  {
   "cell_type": "markdown",
   "metadata": {
    "id": "d0c26982"
   },
   "source": [
    "---**INGRESE SU RESPUESTA**---"
   ]
  },
  {
   "cell_type": "markdown",
   "metadata": {
    "id": "ceibuW1dNH9a"
   },
   "source": [
    "## **Créditos**\n",
    "* **Profesor:** [Felipe Restrepo Calle](https://dis.unal.edu.co/~ferestrepoca/)\n",
    "* **Asistentes docentes:**\n",
    "    - [Juan Sebastián Lara Ramírez](https://www.linkedin.com/in/juan-sebastian-lara-ramirez-43570a214/).\n",
    "* **Diseño de imágenes:**\n",
    "    - [Rosa Alejandra Superlano Esquibel](mailto:rsuperlano@unal.edu.co).\n",
    "* **Coordinador de virtualización:**\n",
    "    - [Edder Hernández Forero](https://www.linkedin.com/in/edder-hernandez-forero-28aa8b207/).\n",
    "    \n",
    "**Universidad Nacional de Colombia** - *Facultad de Ingeniería*"
   ]
  }
 ],
 "metadata": {
  "colab": {
   "provenance": []
  },
  "kernelspec": {
   "display_name": "Python 3 (ipykernel)",
   "language": "python",
   "name": "python3"
  },
  "language_info": {
   "codemirror_mode": {
    "name": "ipython",
    "version": 3
   },
   "file_extension": ".py",
   "mimetype": "text/x-python",
   "name": "python",
   "nbconvert_exporter": "python",
   "pygments_lexer": "ipython3",
   "version": "3.9.6"
  }
 },
 "nbformat": 4,
 "nbformat_minor": 4
}
