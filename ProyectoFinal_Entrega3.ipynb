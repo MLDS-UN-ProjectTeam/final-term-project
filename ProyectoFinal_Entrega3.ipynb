{
 "nbformat": 4,
 "nbformat_minor": 0,
 "metadata": {
  "colab": {
   "provenance": []
  },
  "kernelspec": {
   "name": "python3",
   "display_name": "Python 3 (ipykernel)",
   "language": "python"
  },
  "language_info": {
   "name": "python"
  }
 },
 "cells": [
  {
   "cell_type": "markdown",
   "source": "<img src = \"./resources/images/header_banner_3.jpeg\" alt = \"Encabezado MLDS\" width = \"100%\">  </img>",
   "metadata": {
    "id": "2qrgS_sCJquS"
   }
  },
  {
   "cell_type": "markdown",
   "metadata": {
    "id": "fb006272"
   },
   "source": [
    "# **Preparación de los datos**\n",
    "---"
   ]
  },
  {
   "cell_type": "markdown",
   "metadata": {
    "id": "fdb4c33d"
   },
   "source": [
    "## **0. Integrantes del equipo de trabajo**\n",
    "---"
   ]
  },
  {
   "cell_type": "markdown",
   "metadata": {
    "id": "ckNDI7ftUrpa"
   },
   "source": [
    "<table><thead>\n",
    "  <tr>\n",
    "    <th>#</th>\n",
    "    <th>Integrante</th>\n",
    "    <th>Documento de identidad</th>\n",
    "  </tr></thead>\n",
    "<tbody>\n",
    "  <tr>\n",
    "    <td>1</td>\n",
    "    <td>Laura Alejandra Díaz López</td>\n",
    "    <td>1010018062</td>\n",
    "  </tr>\n",
    "  <tr>\n",
    "    <td>2</td>\n",
    "    <td>Diego Alejandro Feliciano Ramos</td>\n",
    "    <td>1024586904</td>\n",
    "  </tr>\n",
    "  <tr>\n",
    "    <td>3</td>\n",
    "    <td>Geraldine Gracia Ruiz</td>\n",
    "    <td>1032488268</td>\n",
    "  </tr>\n",
    "</tbody>\n",
    "</table>"
   ]
  },
  {
   "cell_type": "markdown",
   "metadata": {
    "id": "56fe78e6"
   },
   "source": [
    "## **1. Limpieza de los Datos**\n",
    "---\n",
    "\n",
    "La elección de las técnicas de preprocesamiento puede diferir en cada conjunto de datos. Recuerde que es posible aplicar, según sea necesario (no necesariamente todas), las técnicas generales que se han explorado en el curso. La elección dependerá del tipo de datos con el que esté trabajando.\n",
    "\n",
    "A lo largo de esta entrega, busque responder las siguientes preguntas:\n",
    "\n",
    "- ¿Cuáles fueron los criterios utilizados para identificar y tratar valores atípicos, datos faltantes o cualquier otra anomalía en el conjunto de datos durante el proceso de limpieza?\n",
    "- ¿Cómo se justificaría la necesidad de cada paso de preprocesamiento en términos de mejora de la calidad de los datos y preparación para el análisis subsiguiente?\n",
    "\n",
    "A continuación encontrará los puntos a tratar a medida que va realizando la preparación de los datos. En cada punto defina el estado en que se encontraba el dataset, ademas de explicar y justificar las acciones y decisiones que se tomaron."
   ]
  },
  {
   "metadata": {},
   "cell_type": "code",
   "source": [
    "# Instalamos los paquetes necesarios para el notebook en caso de trabajar desde Google Colab\n",
    "!pip install wget pandas ydata-profiling ipywidgets"
   ],
   "outputs": [],
   "execution_count": null
  },
  {
   "metadata": {},
   "cell_type": "code",
   "source": [
    "import wget, pandas as pd\n",
    "\n",
    "# Descargar el dataset transformado de la entrega anterior del repositorio publico\n",
    "url = 'https://github.com/MLDS-UN-ProjectTeam/final-term-project/raw/main/resources/data/Saber_11_2023-2_-_Transformado.csv?download='\n",
    "downloaded_file_name = 'Saber_11_2023-2_-_Transformado.csv'\n",
    "wget.download(url = url, out = downloaded_file_name)\n",
    "\n",
    "# Cargar en el notebook el conjunto de datos con las restricciones conocidas:\n",
    "# - Delimitador: ¬ \n",
    "# - Quoting = 3 => Sin comillas para todas las variables\n",
    "saber11_dataframe = pd.read_csv(downloaded_file_name, delimiter=',', quoting=3)"
   ],
   "outputs": [],
   "execution_count": null
  },
  {
   "cell_type": "markdown",
   "source": [
    "### **1.1. Valores faltantes**\n",
    "---\n",
    "Al encontrarnos con valores faltantes en el conjunto de datos, es crucial preguntarse:\n",
    "1. **¿Cómo afectan estos valores a la integridad y representatividad de la información?**\n",
    "\n",
    "La ausencia o falta de datos en un conjunto puede impactar negativamente tanto la calidad como la precisión de la información analizada. Esto ocurre de dos maneras principales:\n",
    "* En cuanto a la calidad de los datos:\n",
    "    * Los análisis pueden ser imprecisos debido a cálculos erróneos.\n",
    "    * Se puede perder información valiosa, limitando la utilidad del análisis.\n",
    "    * Los modelos predictivos pueden fallar o funcionar de manera deficiente.\n",
    "* Respecto a la precisión de los datos:\n",
    "    * Pueden surgir sesgos si la falta de datos no es aleatoria.\n",
    "    * Por ejemplo, en estudios médicos, si los pacientes más graves tienen más datos faltantes, se podría subestimar la severidad de la enfermedad.\n",
    "    * La capacidad de detectar patrones significativos se reduce al haber menos datos disponibles.\n",
    "Para abordar estos problemas, existen varias estrategias:\n",
    "* Eliminar registros incompletos, aunque esto puede resultar en pérdida de información.\n",
    "* Estimar los valores faltantes, pero esto puede introducir suposiciones inexactas.\n",
    "* Utilizar algoritmos diseñados para manejar datos incompletos.\n",
    "\n",
    "2. **¿Cómo se identificaron los valores faltantes en el conjunto de datos?**"
   ],
   "metadata": {}
  },
  {
   "metadata": {
    "ExecuteTime": {
     "end_time": "2024-09-19T04:19:17.690735Z",
     "start_time": "2024-09-19T04:19:15.795731Z"
    }
   },
   "cell_type": "code",
   "source": [
    "#Para la identificación de valores faltantes usamos pandas y varias de las funciones que nos ofrece su api, aquí será descrito cada método que se usó y la finalidad con la que se usó\n",
    "\n",
    "# Contar el total de valores faltantes en el DataFrame\n",
    "total_faltantes = saber11_dataframe.isnull().sum().sum()\n",
    "print('\\nTotal faltantes = ' + str(total_faltantes))\n",
    "\n",
    "#Cantidad de datos nulos por columna\n",
    "columnas_con_faltantes = saber11_dataframe.isnull().sum()\n",
    "columnas_con_faltantes = columnas_con_faltantes[columnas_con_faltantes != 0]\n",
    "print(columnas_con_faltantes)\n",
    "\n",
    "# Rellenamos columnas de interés con la media de las"
   ],
   "outputs": [
    {
     "name": "stdout",
     "output_type": "stream",
     "text": [
      "\n",
      "Total faltantes = 2386169\n",
      "ESTU_GENERO                           7\n",
      "ESTU_PRESENTACIONSABADO             419\n",
      "ESTU_LENGUANATIVA                541839\n",
      "FAMI_ESTRATOVIVIENDA              49105\n",
      "FAMI_PERSONASHOGAR                29154\n",
      "FAMI_CUARTOSHOGAR                 30336\n",
      "FAMI_EDUCACIONPADRE               43179\n",
      "FAMI_EDUCACIONMADRE               43450\n",
      "FAMI_TRABAJOLABORPADRE            30611\n",
      "FAMI_TRABAJOLABORMADRE            30306\n",
      "FAMI_TIENEINTERNET                43908\n",
      "FAMI_TIENECOMPUTADOR              30146\n",
      "FAMI_TIENELAVADORA                30144\n",
      "FAMI_TIENEHORNOMICROOGAS          30747\n",
      "FAMI_TIENESERVICIOTV              45184\n",
      "FAMI_TIENEAUTOMOVIL               31190\n",
      "FAMI_TIENEMOTOCICLETA             30623\n",
      "FAMI_TIENECONSOLAVIDEOJUEGOS      31397\n",
      "FAMI_NUMLIBROS                    48493\n",
      "FAMI_COMELECHEDERIVADOS           50599\n",
      "FAMI_COMECARNEPESCADOHUEVO        45826\n",
      "FAMI_COMECEREALFRUTOSLEGUMBRE     49234\n",
      "FAMI_SITUACIONECONOMICA           32926\n",
      "ESTU_DEDICACIONLECTURADIARIA      44904\n",
      "ESTU_DEDICACIONINTERNET           46088\n",
      "ESTU_HORASSEMANATRABAJA           30414\n",
      "ESTU_TIPOREMUNERACION             31225\n",
      "COLE_BILINGUE                    102248\n",
      "COLE_CARACTER                     22597\n",
      "PUNT_INGLES                        2499\n",
      "PERCENTIL_INGLES                   2499\n",
      "DESEMP_INGLES                      2499\n",
      "PERCENTIL_GLOBAL                   2499\n",
      "PERCENTIL_ESPECIAL_GLOBAL        507677\n",
      "ESTU_INSE_INDIVIDUAL              30453\n",
      "ESTU_NSE_INDIVIDUAL               30453\n",
      "ESTU_NSE_ESTABLECIMIENTO             64\n",
      "ESTU_GENERO_N                         7\n",
      "FAMI_ESTRATOVIVIENDA_N            49105\n",
      "FAMI_PERSONASHOGAR_N              29154\n",
      "FAMI_TIENEINTERNET_N              43908\n",
      "FAMI_TIENECOMPUTADOR_N            30146\n",
      "FAMI_NUMLIBROS_N                  48493\n",
      "ESTU_HORASSEMANATRABAJA_N         30414\n",
      "dtype: int64\n"
     ]
    }
   ],
   "execution_count": 41
  },
  {
   "metadata": {
    "id": "f4K7dEZKeiit"
   },
   "cell_type": "markdown",
   "source": [
    "\n",
    "\n",
    "3. **¿Cuáles fueron los criterios para decidir si rellenar con valores estimados o eliminar los valores faltantes? En caso que aplique, ¿qué método de relleno se utilizó y por qué se consideró apropiado?**\n",
    "\n",
    "\n",
    "4. **¿Se realizó un análisis de la distribución de los valores faltantes en relación con las variables clave? Por ejemplo, si hay valores faltantes en una variable crítica, ¿cómo podría afectar la interpretación de los resultados?**"
   ]
  },
  {
   "cell_type": "code",
   "metadata": {
    "id": "b2e644a9"
   },
   "source": "",
   "outputs": [],
   "execution_count": null
  },
  {
   "cell_type": "markdown",
   "source": [
    "### **1.2. Valores duplicados**\n",
    "----\n",
    "Ante la presencia de valores duplicados, es esencial reflexionar sobre su impacto en los resultados.\n",
    "\n",
    "* ¿Cómo se identificaron y manejaron los valores duplicados en el conjunto de datos?\n",
    "* ¿Hubo alguna consideración especial al tratar duplicados en función de ciertas variables?\n",
    "* ¿Pueden estos duplicados sesgar el análisis, y en qué medida?\n",
    "* ¿Se justifica la eliminación de duplicados para mantener la coherencia y singularidad de los datos?\n",
    "* ¿Cómo se aseguró de que la eliminación de duplicados no afectara negativamente la representación del conjunto de datos?\n",
    "\n",
    "La identificación y eliminación de duplicados busca asegurar que cada registro aporte información única y valiosa."
   ],
   "metadata": {
    "id": "4qKkkYiCeqFg"
   }
  },
  {
   "cell_type": "markdown",
   "source": [
    "---**INGRESE SU RESPUESTA**---"
   ],
   "metadata": {
    "id": "Tj3bKLXJgm2m"
   }
  },
  {
   "cell_type": "code",
   "metadata": {
    "id": "--J8K7mfgm2m"
   },
   "source": [
    "# ---INGRESE SU CÓDIGO---"
   ],
   "outputs": [],
   "execution_count": null
  },
  {
   "cell_type": "markdown",
   "source": [
    "### **1.3. Valores atípicos**\n",
    "---\n",
    "Al abordar valores atípicos, es relevante cuestionarse sobre la naturaleza de estos puntos extremos.\n",
    "* ¿Son errores de medición o representan información válida pero excepcional?\n",
    "* ¿Qué criterios o técnicas se utilizaron para identificar los valores atípicos?\n",
    "* ¿Se aplicaron métodos estadísticos o visuales para detectar los valores atípicos?\n",
    "* ¿Cuál fue la decisión final sobre cómo tratar los valores atípicos y por qué?\n",
    "\n",
    "La elección entre eliminar o transformar estos valores debe basarse en su influencia en la distribución y la interpretación de los resultados, asegurando que el análisis refleje de manera precisa la realidad del conjunto de datos."
   ],
   "metadata": {
    "id": "4pVqw4XWeuly"
   }
  },
  {
   "cell_type": "markdown",
   "source": [
    "---**INGRESE SU RESPUESTA**---"
   ],
   "metadata": {
    "id": "_nFAW9v5gnjF"
   }
  },
  {
   "cell_type": "code",
   "metadata": {
    "id": "z_F5tlESgnjG"
   },
   "source": [
    "# ---INGRESE SU CÓDIGO---"
   ],
   "outputs": [],
   "execution_count": null
  },
  {
   "cell_type": "markdown",
   "source": [
    "### **1.4. Datos Inconsistentes**\n",
    "---\n",
    "Frente a inconsistencias en los datos, es importante analizar cómo estas discrepancias podrían afectar la comparabilidad y comprensión de la información.\n",
    "\n",
    "* ¿Cómo se identificaron las inconsistencias en los datos?\n",
    "* ¿Las inconsistencias son lo suficientemente significativas como para justificar una estandarización?\n",
    "* ¿Cómo se pueden homogeneizar unidades y formatos para garantizar coherencia en el análisis?\n",
    "* ¿Qué estrategias se implementaron para abordar las inconsistencias y asegurar la coherencia?\n",
    "* ¿Se establecieron reglas de validación específicas para garantizar la consistencia?"
   ],
   "metadata": {
    "id": "VIsvbU-ueysh"
   }
  },
  {
   "cell_type": "markdown",
   "source": [
    "---**INGRESE SU RESPUESTA**---"
   ],
   "metadata": {
    "id": "nDqIYfpCgn8B"
   }
  },
  {
   "cell_type": "code",
   "metadata": {
    "id": "V2ikNtJcgn8C"
   },
   "source": [
    "# ---INGRESE SU CÓDIGO---"
   ],
   "outputs": [],
   "execution_count": null
  },
  {
   "cell_type": "markdown",
   "source": [
    "### **1.5. Datos corruptos**\n",
    "---\n",
    "En la detección de datos corruptos, pregunte si hay posibles errores de entrada o problemas de transferencia que podrían haber afectado la integridad de los datos.\n",
    "* ¿Cómo se determinó la presencia de datos corruptos en el conjunto de datos?\n",
    "* ¿Qué medidas se tomaron para corregir o eliminar los datos corruptos?\n",
    "* ¿Hubo casos en los que la corrupción de datos no pudo ser manejada y cómo se justificó esa decisión?"
   ],
   "metadata": {
    "id": "i2HDxOgae2zH"
   }
  },
  {
   "cell_type": "markdown",
   "source": [
    "---**INGRESE SU RESPUESTA**---"
   ],
   "metadata": {
    "id": "uGyRX1eLgoSy"
   }
  },
  {
   "cell_type": "code",
   "metadata": {
    "id": "tyOGRoKQgoSz"
   },
   "source": [
    "# ---INGRESE SU CÓDIGO---"
   ],
   "outputs": [],
   "execution_count": null
  },
  {
   "cell_type": "markdown",
   "source": [
    "### **1.6. Selección de datos**\n",
    "---\n",
    "En la selección de datos, reflexione sobre las variables que son realmente relevantes para sus objetivos de análisis.\n",
    "* ¿Qué criterios se utilizaron para seleccionar los datos relevantes para el análisis?\n",
    "* ¿Se aplicaron técnicas de muestreo o filtrado para reducir el tamaño del conjunto de datos?\n",
    "* ¿Cómo se justificó la inclusión o exclusión de ciertas variables en la selección de datos?"
   ],
   "metadata": {
    "id": "ciaXdOS5fY6a"
   }
  },
  {
   "cell_type": "markdown",
   "source": [
    "---**INGRESE SU RESPUESTA**---"
   ],
   "metadata": {
    "id": "_Sj0ntaagooI"
   }
  },
  {
   "cell_type": "code",
   "metadata": {
    "id": "aKwsi2fmgooI"
   },
   "source": [
    "# ---INGRESE SU CÓDIGO---"
   ],
   "outputs": [],
   "execution_count": null
  },
  {
   "cell_type": "markdown",
   "source": [
    "## **Créditos**\n",
    "* **Profesor:** [Felipe Restrepo Calle](https://dis.unal.edu.co/~ferestrepoca/)\n",
    "* **Asistentes docentes:**\n",
    "    - [Juan Sebastián Lara Ramírez](https://www.linkedin.com/in/juan-sebastian-lara-ramirez-43570a214/).\n",
    "* **Diseño de imágenes:**\n",
    "    - [Rosa Alejandra Superlano Esquibel](mailto:rsuperlano@unal.edu.co).\n",
    "* **Coordinador de virtualización:**\n",
    "    - [Edder Hernández Forero](https://www.linkedin.com/in/edder-hernandez-forero-28aa8b207/).\n",
    "    \n",
    "**Universidad Nacional de Colombia** - *Facultad de Ingeniería*"
   ],
   "metadata": {
    "id": "ceibuW1dNH9a"
   }
  }
 ]
}
