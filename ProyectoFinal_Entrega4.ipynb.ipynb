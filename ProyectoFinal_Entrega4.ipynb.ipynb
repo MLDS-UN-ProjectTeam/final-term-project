{
 "nbformat": 4,
 "nbformat_minor": 0,
 "metadata": {
  "colab": {
   "provenance": []
  },
  "kernelspec": {
   "name": "python3",
   "display_name": "Python 3"
  },
  "language_info": {
   "name": "python"
  }
 },
 "cells": [
  {
   "cell_type": "markdown",
   "source": [
    "<img src = \"https://drive.google.com/uc?export=view&id=1HYrQHu1AE2cEid3BpNxo5KK3tuZF1TCo\" alt = \"Encabezado MLDS\" width = \"100%\">  </img>"
   ],
   "metadata": {
    "id": "2qrgS_sCJquS"
   }
  },
  {
   "cell_type": "markdown",
   "metadata": {
    "id": "fb006272"
   },
   "source": [
    "# **Análisis de datos**\n",
    "---\n"
   ]
  },
  {
   "cell_type": "markdown",
   "metadata": {
    "id": "fdb4c33d"
   },
   "source": [
    "## **0. Integrantes del equipo de trabajo**\n",
    "---\n",
    "\n",
    "Por favor incluya los nombres completos y número de identificación de los integrantes del equipo de trabajo:"
   ]
  },
  {
   "cell_type": "markdown",
   "metadata": {
    "id": "ckNDI7ftUrpa"
   },
   "source": [
    "1. \tLaura Alejandra Díaz López\t1010018062\n",
    "2. \tDiego Alejandro Feliciano Ramos\t1024586904\n",
    "3. \tGeraldine Gracia Ruiz\t1032488268"
   ]
  },
  {
   "metadata": {
    "jupyter": {
     "is_executing": true
    }
   },
   "cell_type": "code",
   "source": [
    "# Instalamos los paquetes necesarios para el notebook en caso de trabajar desde Google Colab\n",
    "!pip install wget pandas ydata-profiling ipywidgets"
   ],
   "outputs": [],
   "execution_count": null
  },
  {
   "metadata": {},
   "cell_type": "code",
   "outputs": [],
   "execution_count": null,
   "source": [
    "import wget, pandas as pd\n",
    "\n",
    "# Descargar el dataset transformado de la entrega anterior del repositorio publico\n",
    "url = 'https://github.com/MLDS-UN-ProjectTeam/final-term-project/raw/main/resources/data/Saber_11_2023-2_-_Preprocesado.csv?download='\n",
    "downloaded_file_name = 'Saber_11_2023-2_-_Preprocesado.csv'\n",
    "wget.download(url = url, out = downloaded_file_name)\n",
    "\n",
    "# Cargar en el notebook el conjunto de datos con las restricciones conocidas:\n",
    "# - Delimitador: ¬ \n",
    "# - Quoting = 3 => Sin comillas para todas las variables\n",
    "saber11_dataframe = pd.read_csv(downloaded_file_name, delimiter='¬', quoting=3)"
   ]
  },
  {
   "metadata": {},
   "cell_type": "code",
   "outputs": [],
   "execution_count": null,
   "source": [
    "# Importamos matplotlib y scipy para las visualizaciones.\n",
    "import matplotlib.pyplot as plt\n",
    "import matplotlib as mpl\n",
    "%matplotlib inline\n",
    "import numpy as np\n",
    "from scipy import stats\n",
    "import scipy\n",
    "import statsmodels.api as sm"
   ]
  },
  {
   "cell_type": "markdown",
   "source": [
    "## **1. Análisis y resultados**\n",
    "---"
   ],
   "metadata": {
    "id": "Q1pVjKU7m_cC"
   }
  },
  {
   "cell_type": "markdown",
   "metadata": {
    "id": "56fe78e6"
   },
   "source": [
    "Al adentrarse en el análisis de datos, es crucial adoptar un enfoque estratégico que responda a las preguntas de planteadas en el proyecto. La selección de variables para estudio requiere una evaluación cuidadosa de los objetivos específicos del proyecto, priorizando aquellas que se consideren fundamentales para obtener resultados significativos.\n",
    "\n",
    "A lo largo de esta entrega, trate busque responder las siguientes preguntas\n",
    "\n",
    "- ¿Cómo se aplicaron conceptos específicos de estadística descriptiva e inferencial en el análisis de datos y cuál fue el enfoque utilizado para interpretar los resultados de manera precisa?\n",
    "- ¿Cómo se interpretaron los resultados de la estadística descriptiva y qué conclusiones se pueden extraer?\n",
    "- ¿Cómo se relacionan los resultados del análisis de datos con los objetivos y preguntas planteadas inicialmente?\n",
    "- ¿Qué implicaciones prácticas tienen los hallazgos y cómo podrían influir en la toma de decisiones?"
   ]
  },
  {
   "metadata": {},
   "cell_type": "code",
   "outputs": [],
   "execution_count": null,
   "source": [
    "# Observamos la información básica del dataframe.\n",
    "saber11_dataframe.info()"
   ]
  },
  {
   "metadata": {},
   "cell_type": "markdown",
   "source": "Se empezó por comprobar que la variable objetivo de estudio, \"PUNT_GLOBAL\", estuviera normalmente distribuída, puesto que es una pieza de información importante a la hora de evaluar su correlación con otras variables. Esto se hizo a través de un Gráfico Q-Q."
  },
  {
   "metadata": {},
   "cell_type": "code",
   "outputs": [],
   "execution_count": null,
   "source": [
    "plt.figure(dpi = 110) # Mejoramos la visibilidad de la gráfica.\n",
    "stats.probplot(saber11_dataframe['PUNT_GLOBAL'], plot= plt)\n",
    "plt.title('Gráfico Q-Q del Puntaje Global')\n",
    "plt.show()"
   ]
  },
  {
   "metadata": {},
   "cell_type": "markdown",
   "source": "<img src = \"./resources/images/grafqq_puntglo.png\" alt = \"Gráfico Q-Q del Puntaje Global\" width = \"70%\"></img>"
  },
  {
   "metadata": {},
   "cell_type": "markdown",
   "source": "A partir de la imagen es fácil observar que la mayoría de puntos azules, que representan a los datos, se encuentran sobre la línea roja, de donde se concluye que la variable de estudio SÍ está distribuída normalmente, con un leve comportamiento anormal en los cuantiles más bajo y más alto."
  },
  {
   "cell_type": "markdown",
   "metadata": {
    "id": "53af2475"
   },
   "source": [
    "### **1.1. Análisis de correlaciones**\n",
    "---\n",
    "\n",
    "- Analice la posible existencia de relaciones entre las variables, utilizando medidas de correlación o visualizaciones pertinentes.\n",
    "- Detecte la presencia de redundancias entre las variables, con el objetivo de facilitar su posterior eliminación o selección en el análisis.\n",
    "- ¿Cuáles fueron las variables seleccionadas para el análisis de correlaciones, y cómo se eligieron en función de los objetivos del proyecto?\n",
    "\n"
   ]
  },
  {
   "metadata": {},
   "cell_type": "markdown",
   "source": "Para el análisis de correlaciones se hará uso de una función que permite visualizar la relación entre las dos variables."
  },
  {
   "cell_type": "code",
   "source": [
    "# Función para evaluar correlaciones entre variables\n",
    "\n",
    "def graficar_corr(df, var_a, var_b):\n",
    "\n",
    "  r = df[var_a].corr(df[var_b]);\n",
    "  fig, ax = plt.subplots(dpi = 110);\n",
    "  df.plot.scatter(var_a, var_b, title=f\"Coeficiente de correlación: {r :.2}\", ax = ax,\n",
    "                marker='o', linestyle='None', s = 70, alpha = 0.5, grid=True \n",
    "                );\n"
   ],
   "metadata": {
    "id": "vgLQ47O0X6qK"
   },
   "execution_count": null,
   "outputs": []
  },
  {
   "cell_type": "markdown",
   "metadata": {
    "id": "2bd6f16f"
   },
   "source": [
    "**Variables a evaluar:**\n",
    "\n",
    "* FAMI_ESTRATOVIVIENDA_N : Estrato socioeconómico de la vivienda.\n",
    "* ESTU_INSE_INDIVIDUAL : Índice Socioeconómico del evaluado\n",
    "* ESTU_NSE_ESTABLECIMIENTO : Nivel Socioeconómico del Establecimiento\n",
    "* FAMI_EDUCACIONMADRE : Nivel educativo más alto alcanzado por la madre.\n",
    "* FAMI_EDUCACIONPADRE : Nivel educativo más alto alcanzado por el padre.\n",
    "\n",
    "La selección de estas variables estuvo fundamentada en la limpieza y evaluación hecha en entregas anteriores. Adicionalmente se evaluó qué variables daban información más valiosa de acuerdo al objetivo principal del proyecto: encontrar factores socioeconómicos que afectan de forma relevante y determinante el rendimiento de los estudiantes a la hora de presentar el exámen de estado."
   ]
  },
  {
   "metadata": {},
   "cell_type": "markdown",
   "source": "Se empezó entonces por las dos variables más evidentes, aquellas que da cuenta del estrato socioeconómico del estudiante; la primera, relacionada a su vivienda, la segunda, a su índice individual. Así:"
  },
  {
   "metadata": {},
   "cell_type": "code",
   "outputs": [],
   "execution_count": null,
   "source": "graficar_corr(saber11_dataframe, 'FAMI_ESTRATOVIVIENDA_N', 'PUNT_GLOBAL')"
  },
  {
   "metadata": {},
   "cell_type": "markdown",
   "source": "<img src = \"./resources/images/corr_estrato_viv.png\" alt = \"Correlación entre el Putaje Global y el estrato socioeconómico de la vivienda del evaluado\" width = \"70%\"></img>"
  },
  {
   "metadata": {},
   "cell_type": "code",
   "outputs": [],
   "execution_count": null,
   "source": "graficar_corr(saber11_dataframe, 'ESTU_INSE_INDIVIDUAL', 'PUNT_GLOBAL')"
  },
  {
   "metadata": {},
   "cell_type": "markdown",
   "source": "<img src = \"./resources/images/corr_estu_inse.png\" alt = \"Correlación entre el Putaje Global y el Índice Socioeconómico del evaluado\" width = \"70%\"></img>"
  },
  {
   "metadata": {},
   "cell_type": "markdown",
   "source": "De forma interesante, si bien se alcanzó a apreciar una correlación leve con el estrato socioeconómico de la vivienda del estudiante, fue al tener encuenta su índice individual que se hizo evidente el tipo de relación entre las dos variables. Se obtiene allí un coeficiente de correlación de 0.34 y, al visualizar los datos, se observó un resultado esperado: a mayor índice socioeconómico, mejores resultados en el exámen de estado. "
  },
  {
   "metadata": {},
   "cell_type": "markdown",
   "source": "De forma similar se observó el nivel socioeconómico del establecimiento:"
  },
  {
   "metadata": {},
   "cell_type": "code",
   "outputs": [],
   "execution_count": null,
   "source": "graficar_corr(saber11_dataframe, 'ESTU_NSE_ESTABLECIMIENTO', 'PUNT_GLOBAL')"
  },
  {
   "metadata": {},
   "cell_type": "markdown",
   "source": "<img src = \"./resources/images/corr_nse_establecimiento.png\" alt = \"Correlación entre el Putaje Global y el Nivel Socioeconómico del Establecimiento\" width = \"70%\"></img>"
  },
  {
   "metadata": {},
   "cell_type": "markdown",
   "source": "Una vez más se hace obvia la diferencia: a medida que aumenta el nivel socioeconómico, mejoran los resultados del examen. Teniendo en cuenta que los tres resultados dan cuenta de factores similares y se puede incurrir en redundancias, se decidió tomar como parámetro de evaluación principal el Índice Individual Socioeconómico.  "
  },
  {
   "metadata": {},
   "cell_type": "markdown",
   "source": "Otro par de variables de interés se encuentran relacionadas con el nivel de estudios más alto alcanzado por la madre y el padre de cada estudiante, sin embargo, para poder hacer el análisis de correlaciones para estas variables fue necesario hacer una transformación de los datos, así:"
  },
  {
   "metadata": {},
   "cell_type": "code",
   "outputs": [],
   "execution_count": null,
   "source": [
    "# RANGOS PARA NIVELES DE ESTUDIO\n",
    "rangos_edu = {\n",
    "    'Ninguno': 0,\n",
    "    'No sabe': 0,\n",
    "    'Primaria incompleta': 0.5,\n",
    "    'Primaria completa': 1,\n",
    "    'Secundaria (Bachillerato) incompleta': 1.5,\n",
    "    'Secundaria (Bachillerato) completa': 2,\n",
    "    'Técnica o tecnológica incompleta': 2.5,\n",
    "    'Técnica o tecnológica completa': 3,\n",
    "    'Educación profesional incompleta': 2.5,\n",
    "    'Educación profesional completa': 4,\n",
    "    'Postgrado': 5, \n",
    "}"
   ]
  },
  {
   "metadata": {},
   "cell_type": "code",
   "outputs": [],
   "execution_count": null,
   "source": [
    "saber11_dataframe = saber11_dataframe.loc[saber11_dataframe['FAMI_EDUCACIONPADRE'] != 'No Aplica']\n",
    "saber11_dataframe['FAMI_EDUCACIONPADRE'] = saber11_dataframe['FAMI_EDUCACIONPADRE'].map(rangos_edu)"
   ]
  },
  {
   "metadata": {},
   "cell_type": "code",
   "outputs": [],
   "execution_count": null,
   "source": "graficar_corr(saber11_dataframe, 'FAMI_EDUCACIONPADRE', 'PUNT_GLOBAL')"
  },
  {
   "metadata": {},
   "cell_type": "code",
   "outputs": [],
   "execution_count": null,
   "source": [
    "saber11_dataframe = saber11_dataframe.loc[saber11_dataframe['FAMI_EDUCACIONMADRE'] != 'No Aplica']\n",
    "saber11_dataframe['FAMI_EDUCACIONMADRE'] = saber11_dataframe['FAMI_EDUCACIONMADRE'].map(rangos_edu)"
   ]
  },
  {
   "metadata": {},
   "cell_type": "code",
   "outputs": [],
   "execution_count": null,
   "source": "graficar_corr(saber11_dataframe, 'FAMI_EDUCACIONMADRE', 'PUNT_GLOBAL')"
  },
  {
   "metadata": {},
   "cell_type": "markdown",
   "source": "<img src = \"./resources/images/corr_edupadre.png\" alt = \"Correlación entre el Putaje Global y el nivel educativo más alto alcanzado por el padre\" width = \"70%\"></img>"
  },
  {
   "metadata": {},
   "cell_type": "markdown",
   "source": "<img src = \"./resources/images/corr_edumadre.png\" alt = \"Correlación entre el Putaje Global y el nivel educativo más alto alcanzado por el madre\" width = \"70%\"></img>"
  },
  {
   "metadata": {},
   "cell_type": "markdown",
   "source": "Se observó aquí una correlación bastante pequeña pero, a pesar de tenue, existente, de donde se concluyó que a mayor nivel de estudios alcanzado por los padres, mejores resultados en el examen de estado. Dado que ambas variables tienen un comportamiento similar, se decidió elegir la que tiene mayor coeficiente de correlación, en este caso, la variable correspondiente a la madre. "
  },
  {
   "metadata": {},
   "cell_type": "markdown",
   "source": ""
  },
  {
   "metadata": {},
   "cell_type": "markdown",
   "source": [
    "Tras el análisis de correlaciones entre varias variables de relevancia con el puntaje global obtenido por los estudiantes en el examen de estado, se concluyo que las variables más importantes a estudiar y tomar en cuenta son:\n",
    "\n",
    "* Índice Individual de Nivel Socioeconómico. \n",
    "* Máximo nivel educativo alcanzado por la madre del estudiante. "
   ]
  },
  {
   "cell_type": "markdown",
   "metadata": {
    "id": "N_JhY9aQenPB"
   },
   "source": [
    "### **1.2. Análisis de regresiones**\n",
    "---\n",
    "\n",
    "- Apartir de las correlaciones identificadas, ¿es posible llevar a cabo un análisis de regresiones para estimar el valor de alguna de las variables de interés?\n",
    "- ¿Cuáles fueron las variables seleccionadas para el análisis de regresiones y cómo se eligieron en función de los objetivos del proyecto?\n"
   ]
  },
  {
   "cell_type": "markdown",
   "metadata": {
    "id": "k3ocIh1genPF"
   },
   "source": "Se eligieron las dos variables acorde a lo obtenido en el análisis de correlaciones, que además dan cuenta de forma amplia de la realidad socioeconómica del estudiante. "
  },
  {
   "metadata": {},
   "cell_type": "markdown",
   "source": "Se empezó entonces por analizar el Índice Socioeconómico Indidivudal con una regresión lineal, usando la librería statsmodel para obtener información sobre el intercepto y la pendiente de la recta. "
  },
  {
   "metadata": {},
   "cell_type": "code",
   "outputs": [],
   "execution_count": null,
   "source": [
    "model = sm.OLS.from_formula(\"PUNT_GLOBAL ~ ESTU_INSE_INDIVIDUAL\", data=saber11_dataframe)\n",
    "\n",
    "result = model.fit()\n",
    "result.summary()"
   ]
  },
  {
   "metadata": {},
   "cell_type": "markdown",
   "source": "<img src = \"./resources/images/reg_dat_inse.png\" alt = \"Información de la regresión lineal del puntaje global en el examen de estado en función del índice socioeconómico indivudal\" width = \"70%\"></img>"
  },
  {
   "metadata": {},
   "cell_type": "markdown",
   "source": "A partir de la información obtenida se procedió a visualizar el modelo lineal, así: "
  },
  {
   "metadata": {
    "id": "ZR3CBNm0enPD"
   },
   "cell_type": "code",
   "outputs": [],
   "execution_count": null,
   "source": [
    "saber11_dataframe['modelo_INS'] =  2.3932 * saber11_dataframe['ESTU_INSE_INDIVIDUAL'] + 137.6087\n",
    "\n",
    "ax = saber11_dataframe.plot.scatter('ESTU_INSE_INDIVIDUAL', 'PUNT_GLOBAL', title=\"Puntaje Global vs. Índice Socioeconómico Individual\",\n",
    "                s = 10, alpha = 0.3, grid=True)\n",
    "saber11_dataframe.plot.line('ESTU_INSE_INDIVIDUAL', 'modelo_INS',\n",
    "                   c='r', label='Regresión lineal', ax=ax);"
   ]
  },
  {
   "metadata": {},
   "cell_type": "markdown",
   "source": "<img src = \"./resources/images/reg_graf_inse.png\" alt = \"Visualización de la regresión lineal del puntaje global en el examen de estado en función del índice socioeconómico indivudal\" width = \"70%\"></img>"
  },
  {
   "metadata": {},
   "cell_type": "markdown",
   "source": "A pesar de la alta dispersión de los datos entorno a la recta y aunque el R^2 sea bastante bajo (0.120), la regresión ciertamente sigue el patrón comportamental de lo mismos.  "
  },
  {
   "metadata": {},
   "cell_type": "markdown",
   "source": "Se hizo el mismo procedimiento teniendo en cuenta el nivel máximo de estudios de la madre, así:"
  },
  {
   "metadata": {},
   "cell_type": "code",
   "outputs": [],
   "execution_count": null,
   "source": [
    "model = sm.OLS.from_formula(\"PUNT_GLOBAL ~ FAMI_EDUCACIONMADRE\", data=saber11_dataframe)\n",
    "\n",
    "result = model.fit()\n",
    "result.summary()"
   ]
  },
  {
   "metadata": {},
   "cell_type": "markdown",
   "source": "<img src = \"./resources/images/reg_dat_edumadre.png\" alt = \"Información de la regresión lineal del puntaje global en función del nivel educativo más alto alcanzado por la madre\" width = \"70%\"></img>"
  },
  {
   "metadata": {},
   "cell_type": "markdown",
   "source": "Así mismo para la visualización:"
  },
  {
   "metadata": {},
   "cell_type": "code",
   "outputs": [],
   "execution_count": null,
   "source": [
    "saber11_dataframe['modelo_EDUMADRE'] =  10.5342 * saber11_dataframe['FAMI_EDUCACIONMADRE'] + 241.8596\n",
    "\n",
    "ax = saber11_dataframe.plot.scatter('FAMI_EDUCACIONMADRE', 'PUNT_GLOBAL', title=\"Puntaje Global vs. Nivel de Estudios de la Madre\",\n",
    "                s = 10, alpha = 0.3, grid=True)\n",
    "saber11_dataframe.plot.line('FAMI_EDUCACIONMADRE', 'modelo_EDUMADRE',\n",
    "                   c='r', label='Regresión lineal', ax=ax);"
   ]
  },
  {
   "metadata": {},
   "cell_type": "markdown",
   "source": "<img src = \"./resources/images/reg_graf_edumadre.png\" alt = \"Visualización de la regresión lineal del puntaje global en el examen de estado en función del nivel educativo más alto alcanzado por la madre\" width = \"70%\"></img>"
  },
  {
   "metadata": {},
   "cell_type": "markdown",
   "source": "Se obtuvo aquí una pendiente mucho menos marcada a la encontrada para la otra variable, sin embargo, aún da cuenta de cómo a medida que el nivel educativo de la madre crece, también lo hace el puntaje del examen."
  },
  {
   "metadata": {},
   "cell_type": "markdown",
   "source": "Para ambas variables se observó que a causa de la dispersión de los datos, no resulta tan sencillo estimar el valor de una variable a partir del modelo, sin embargo, este funciona muy bien para explicar el comportamiento que tienen las variables una respecto a la otra."
  },
  {
   "metadata": {},
   "cell_type": "markdown",
   "source": "Se consideró la opción de estudiar esta variable categórica transformándola en dummies, así:"
  },
  {
   "metadata": {},
   "cell_type": "code",
   "outputs": [],
   "execution_count": null,
   "source": [
    "import statsmodels.api as sm\n",
    "from sklearn.model_selection import train_test_split\n",
    "\n",
    "df_dummies = pd.get_dummies(saber11_dataframe['FAMI_EDUCACIONMADRE'], drop_first=True)\n",
    "df_dummies = df_dummies.astype(int)\n",
    "df_final = pd.concat([df_dummies, saber11_dataframe['PUNT_GLOBAL']], axis=1)\n",
    "#print(df_final.dtypes)\n",
    "\n",
    "X = df_final.drop('PUNT_GLOBAL', axis=1)\n",
    "y = df_final['PUNT_GLOBAL'] \n",
    "\n",
    "X = sm.add_constant(X)\n",
    "\n",
    "modelo = sm.OLS(y, X).fit()\n",
    "print(modelo.summary())"
   ]
  },
  {
   "cell_type": "markdown",
   "metadata": {
    "id": "hjSPxoJOd7zR"
   },
   "source": [
    "### **1.3. Estadística inferencial (Opcional)**\n",
    "---\n",
    "\n",
    "- ¿Resulta pertinente calcular intervalos de confianza para estimar algún parámetro con confianza a partir de una muestra?\n",
    "- ¿Es posible realizar pruebas de hipótesis para probar alguna teoría sobre un parámetro de la población?"
   ]
  },
  {
   "cell_type": "code",
   "source": [
    "# ---INGRESE SU CÓDIGO---"
   ],
   "metadata": {
    "id": "8Be5Nx1jd7zT"
   },
   "execution_count": null,
   "outputs": []
  },
  {
   "cell_type": "markdown",
   "metadata": {
    "id": "j4OShammd7zq"
   },
   "source": [
    "---**INGRESE SU RESPUESTA**---"
   ]
  },
  {
   "cell_type": "markdown",
   "source": [
    "## **2. Resultados y visualizaciones**"
   ],
   "metadata": {
    "id": "VL49yVgZm01s"
   }
  },
  {
   "cell_type": "markdown",
   "source": [
    "### **2.1. Visualizaciones Estáticas**\n",
    "---\n",
    "\n",
    "* Incluya gráficos y visualizaciones estáticas que sean relevantes para los datos analizados.\n",
    "* Explique cada visualización y cómo contribuye a la comprensión de los resultados."
   ],
   "metadata": {
    "id": "uo9QlrykotYH"
   }
  },
  {
   "cell_type": "code",
   "execution_count": null,
   "metadata": {
    "id": "KXpSR_j-ofTu"
   },
   "outputs": [],
   "source": [
    "# ---INGRESE SU CÓDIGO---"
   ]
  },
  {
   "cell_type": "markdown",
   "source": [
    "### **2.2. Visualizaciones Interactivas**\n",
    "---\n",
    "\n",
    "* Cree visualizaciones interactivas, como gráficos dinámicos o tableros interactivos y proporcione instrucciones claras sobre cómo interactuar con ellos.\n",
    "* Explore cómo estas visualizaciones ayudan en la exploración de datos y documente su análisis."
   ],
   "metadata": {
    "id": "O7E_-U3Ko5pO"
   }
  },
  {
   "cell_type": "code",
   "execution_count": null,
   "metadata": {
    "id": "LtzJmR0Bo5pP"
   },
   "outputs": [],
   "source": [
    "# ---INGRESE SU CÓDIGO---"
   ]
  },
  {
   "cell_type": "markdown",
   "source": [
    "### **2.3. Visualización de Mapas Coropléticos (Opcional)**\n",
    "---\n",
    "\n",
    "* Si aplica mapas coropléticos para representar datos geoespaciales, incluya estas visualizaciones.\n",
    "* Explique la elección de este tipo de visualización y cómo ésta contribuye a la comprensión de patrones geográficos y a la solución planteada."
   ],
   "metadata": {
    "id": "_A5-mWAmpKGa"
   }
  },
  {
   "cell_type": "code",
   "execution_count": null,
   "metadata": {
    "id": "Vj8oCIjupKGa"
   },
   "outputs": [],
   "source": [
    "# ---INGRESE SU CÓDIGO---"
   ]
  },
  {
   "cell_type": "markdown",
   "source": [
    "### **2.4. Interpretación de Resultados**\n",
    "---\n",
    "* ¿Existen patrones o tendencias significativas en los datos?\n",
    "* ¿Qué significan los resultados en términos prácticos?\n",
    "* ¿Existen patrones o tendencias inesperadas en los datos que requieran una consideración especial o una investigación adicional?\n",
    "* ¿Cuáles fueron los hallazgos principales que contribuirán al proceso de toma de decisiones?\n",
    "\n",
    "Recuerde que la interpretación de resultados es una fase clave para extraer el significado de los datos y proporcionar respuestas o soluciones al problema inicial."
   ],
   "metadata": {
    "id": "j1_c3w9qmoXz"
   }
  },
  {
   "cell_type": "code",
   "execution_count": null,
   "metadata": {
    "id": "b2e644a9"
   },
   "outputs": [],
   "source": [
    "# ---INGRESE SU CÓDIGO---"
   ]
  },
  {
   "cell_type": "markdown",
   "source": [
    "## **3. Conclusiones**\n",
    "---\n",
    "Asegúrese de incluir al menos una conclusión de cada unidad tratada en los *notebooks*. Estas conclusiones actúan como resúmenes breves que destacan los puntos clave y los aprendizajes esenciales de cada sección.\n",
    "\n",
    "\n",
    "1.   \n",
    "2.   \n",
    "3.   \n",
    "4.   \n",
    "\n"
   ],
   "metadata": {
    "id": "jar8_SsYm3ao"
   }
  },
  {
   "cell_type": "markdown",
   "source": [
    "## **Créditos**\n",
    "* **Profesor:** [Felipe Restrepo Calle](https://dis.unal.edu.co/~ferestrepoca/)\n",
    "* **Asistentes docentes:**\n",
    "    - [Juan Sebastián Lara Ramírez](https://www.linkedin.com/in/juan-sebastian-lara-ramirez-43570a214/).\n",
    "* **Diseño de imágenes:**\n",
    "    - [Rosa Alejandra Superlano Esquibel](mailto:rsuperlano@unal.edu.co).\n",
    "* **Coordinador de virtualización:**\n",
    "    - [Edder Hernández Forero](https://www.linkedin.com/in/edder-hernandez-forero-28aa8b207/).\n",
    "    \n",
    "**Universidad Nacional de Colombia** - *Facultad de Ingeniería*"
   ],
   "metadata": {
    "id": "ceibuW1dNH9a"
   }
  }
 ]
}
