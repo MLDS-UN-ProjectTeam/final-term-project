{
 "nbformat": 4,
 "nbformat_minor": 0,
 "metadata": {
  "colab": {
   "provenance": []
  },
  "kernelspec": {
   "name": "python3",
   "display_name": "Python 3 (ipykernel)",
   "language": "python"
  },
  "language_info": {
   "name": "python"
  }
 },
 "cells": [
  {
   "cell_type": "markdown",
   "source": "<img src = \"./resources/images/header_banner_1.png\" alt = \"Encabezado MLDS\" width = \"100%\"></img>",
   "metadata": {
    "id": "2qrgS_sCJquS"
   }
  },
  {
   "cell_type": "markdown",
   "source": "# **Entendimiento del negocio**\n",
   "metadata": {
    "id": "--22KSZzLR-o"
   }
  },
  {
   "metadata": {},
   "cell_type": "markdown",
   "source": [
    "## **0. Integrantes del equipo de trabajo**\n",
    "---"
   ]
  },
  {
   "cell_type": "markdown",
   "metadata": {
    "id": "ckNDI7ftUrpa"
   },
   "source": [
    "<table><thead>\n",
    "  <tr>\n",
    "    <th>#</th>\n",
    "    <th>Integrante</th>\n",
    "    <th>Documento de identidad</th>\n",
    "  </tr></thead>\n",
    "<tbody>\n",
    "  <tr>\n",
    "    <td>1</td>\n",
    "    <td>Laura Alejandra Díaz López</td>\n",
    "    <td>1010018062</td>\n",
    "  </tr>\n",
    "  <tr>\n",
    "    <td>2</td>\n",
    "    <td>Diego Alejandro Feliciano Ramos</td>\n",
    "    <td>1024586904</td>\n",
    "  </tr>\n",
    "  <tr>\n",
    "    <td>3</td>\n",
    "    <td>Geraldine Gracia Ruiz</td>\n",
    "    <td>1032488268</td>\n",
    "  </tr>\n",
    "</tbody>\n",
    "</table>"
   ]
  },
  {
   "cell_type": "markdown",
   "metadata": {
    "id": "w2fwJpnBUkMV"
   },
   "source": [
    "## **1. Marco de Proyecto**\n",
    "---"
   ]
  },
  {
   "cell_type": "markdown",
   "metadata": {
    "id": "7a974ec1"
   },
   "source": [
    "### **1.1. Trasfondo del Negocio**\n",
    "---\n",
    "La educación siempre ha sido un tema a debatir en Colombia, pues los resultados obtenidos año tras año, aunque mejoran gradualmente, siguen siendo menos que satisfactorios.\n",
    "\n",
    "Es sabido que muchos de los niños y jóvenes del país enfrentan situaciones de vida complicadas, lo que afecta negativamente su rendimiento académico y desemboca en desigualdad educativa. El problema radica en un fallo en la detección oportuna de los estudiantes en riesgo: desarrollar modelos predictivos puede ayudar a una identificación temprana que permita brindar recursos, atención y programas de ayuda a quienes así lo requieran.\n",
    "\n",
    "Los resultados del proyecto pueden ser utilizados en múltiples áreas, siendo las de principal interés las gubernamentales y educativas. Particularmente, el estado puede beneficiarse de los resultados del análisis en cuanto estos podrán ser utilizados para desarrollar políticas que no solo mejoren la calidad educativa en el país, sino también los resultados de la misma y, por consecuencia, la productividad y calidad de vida de las personas. Por otro lado, el modelo desarrollado será también de gran utilidad para las instituciones educativas, ya que con él será posible diseñar mejores programas de intervención que resulten en una mejoría en el rendimiento de los estudiantes y sus resultados académicos."
   ]
  },
  {
   "cell_type": "markdown",
   "metadata": {
    "id": "d09c63e5"
   },
   "source": [
    "### **1.2. Alcance**\n",
    "---\n",
    "\n",
    "Teniendo en cuenta lo anterior, se busca implementar un modelo de predicción que permita proyectar el desempeño de un estudiante en la prueba Saber 11, donde las variables predictoras corresponden a aspectos socioeconómicos (por ejemplo, la ocupación y el nivel educativo de los padres) y del estilo/hábitos de vida del estudiante (por ejemplo, el tiempo dedicado al ocio y actividades extracurriculares), así como a la naturaleza del establecimiento educativo, entre algunos otros.\n",
    "\n",
    "Así, se entiende que el proyecto no tiene como objetivo realizar un seguimiento del desempeño académico de un mismo individuo en el tiempo, sino entender la relación entre los resultados en la prueba Saber 11 y los aspectos mencionados anteriormente. Se estudiará la relación entre los resultados del examen y las demás variables, pero no se establecerá una relación de causalidad entre ellos.\n",
    "\n",
    "A pesar de que el modelo representará una herramienta valiosa para el estado y las instituciones educativas en la toma de decisiones, es importante resaltar que la realidad de cada estudiante tiene sus particularidades y se tendrán en cuenta solo algunas de estas. Aspectos relevantes como las calificaciones e influencia de los docentes no se tomarán en consideración.\n",
    "\n",
    "Debido a que el análisis se enfoca en los factores que pueden influir en resultados de las pruebas Saber 11 en Colombia, el modelo resultante no será aplicable a otros contextos.\n",
    "\n",
    "Por último, se establece que el modelo generado podrá ser usado por el estado e instituciones educativas como apoyo para identificar los factores que tienen mayor influencia en los resultados de las pruebas, con el fin de llevar a cabo intervenciones orientadas a mejorar el rendimiento de los estudiantes."
   ]
  },
  {
   "cell_type": "markdown",
   "metadata": {
    "id": "3b465355"
   },
   "source": [
    "### **1.3. Plan**\n",
    "---\n",
    "Para la ejecución de las actividades se tomó la decisión de usar [GitHub](https://github.com/MLDS-UN-ProjectTeam/final-term-project) con Jira integradas, esto permitirá llevar un seguimiento detallado del trabajo a realizar a su vez de intentar asegurar la calidad de los entregables. \n",
    "\n",
    "A continuación se detalla el [diagrama de Gantt llevado a cabo con Jira](https://unal-team-mlds-project.atlassian.net/jira/software/projects/MLDSFP/boards/1/timeline?shared=&atlOrigin=eyJpIjoiN2U5ZWZmODVlODRhNDExMTllY2E3NjBkMmQ3NDZjMGEiLCJwIjoiaiJ9) con las tareas conocidas hasta ahora:\n",
    "\n",
    "<img src = \"./resources/images/gantt.png\" alt = \"Diagrama de Gantt\" width = \"100%\"></img>\n",
    "\n",
    "También se hace constar por escrito que el proyecto, tal y como fue creado en Jira, consta de 5 épicas que corresponden a cada entrega del proyecto, con tareas que engloban los puntos iniciales a realizar y subtareas que describen mejor cada uno de los subitems que se deben realizar en el punto.\n",
    "\n",
    "Además del [estado actual de las epicas, tareas y subtareas](https://unal-team-mlds-project.atlassian.net/jira/software/projects/MLDSFP/boards/1?atlOrigin=eyJpIjoiM2E2ZjkzNDdkYzY4NDI4ZGI0ZjM3YzkzYjQ5Nzg4MDEiLCJwIjoiaiJ9):\n",
    "\n",
    "<img src = \"./resources/images/sprint_view.png\" alt = \"Vista del sprint\" width = \"100%\"></img>\n",
    "\n",
    "Por último, se añade una visualización al trabajo conocido y estimado hasta ahora en [el backlog del proyecto](https://unal-team-mlds-project.atlassian.net/jira/software/projects/MLDSFP/boards/1/backlog?atlOrigin=eyJpIjoiMjE0YThmMzZiY2RjNGI0MzgxYzEzZTdlMDU2NjEzOWIiLCJwIjoiaiJ9):\n",
    "\n",
    "<img src = \"./resources/images/backlog.png\" alt = \"Vista del backlog\" width = \"100%\"></img>"
   ]
  },
  {
   "cell_type": "markdown",
   "metadata": {
    "id": "4a4e145b"
   },
   "source": [
    "## **2. Datos**\n",
    "---\n",
    "\n",
    "En esta instancia del proyecto se planea trabajar con datos estructurados en formato txt que se pueden cargar como csv en el notebook. Estos datos incluyen:\n",
    "\n",
    "* Información personal de quien presenta la prueba Saber 11: entre estos datos se encuentran algunos como, tipo de documento, nacionalidad, género, fecha de nacimiento, etnia a la que pertenece, entre otros.\n",
    "* Información de contacto: en esta subsección se encuentran el departamento y el municipio de residencia.\n",
    "* Información socioeconómica: acá se obtiene información como el estrato socioeconómico al que pertenece quien presenta la prueba, la cantidad de personas en el hogar, el nivel educativo y trabajo de sus padres y hábitos de consumo de proteínas vegetales, animales, entre otras categorías\n",
    "* Información del colegio: estos datos incluyen información del colegio al que pertenece el estudiante, si es que pertenece a alguno. En estos se puede encontrar su ubicación, la jornada a la que pertenece el estudiante y más datos asociados al colegio.\n",
    "* Datos de citación del examen: estos incluyen información sobre la ubicación de citación para la presentación del examen y el posible estado de reclusión del estudiante.   \n",
    "* Resultados: esta subsección de los datos incluye los resultados obtenidos por el estudiante además del percentil en el que se encuentra para cada área evaluada junto a algunos otros de menor relevancia."
   ]
  },
  {
   "cell_type": "markdown",
   "metadata": {
    "id": "2c5f8274"
   },
   "source": [
    "### **2.1. Origen**\n",
    "---\n",
    "\n",
    "El origen de estos datos es el [portal de datos abiertos del ICFES](https://www.icfes.gov.co/data-icfes), donde después de un registro y confirmación de intenciones se obtiene una contraseña para trabajar con cualquier set de datos que esté disponible. Entre estos datos disponibles se encuentran: \n",
    "* Resultados de exámenes Saber 3°, 5° y 9°\n",
    "* Pre Saber 11\n",
    "* Saber 11\n",
    "* Saber TyT\n",
    "* Saber Pro\n",
    " \n",
    "Para llevar a cabo nuestro trabajo de análisis y visualización de datos se ha tomado la decisión de trabajar los resultados del Saber 11 realizados en 2023-2.\n",
    "\n",
    "Además, para poder usar estos sets de datos hay que, en primera instancia y como se mencionó anteriormente, tener una cuenta con acceso, aparte hay que descargar el archivo mostrado que está en formato zip y por último descomprimirlo para utilizarlo libremente, también existe la opción de tenerlo en algún repositorio disponible públicamente y trabajar desde ahí.\n",
    "\n",
    "El proceso de carga dentro del notebook se describirá en las siguientes celdas (teniendo disponible el archivo):"
   ]
  },
  {
   "metadata": {},
   "cell_type": "code",
   "source": [
    "### Nos aseguramos de tener unzip instalado\n",
    "!pip install unzip\n",
    "\n",
    "### Se descomprime el archivo\n",
    "!unzip ./resources/data/Saber_11_2023-2.zip"
   ],
   "outputs": [],
   "execution_count": null
  },
  {
   "metadata": {},
   "cell_type": "code",
   "source": [
    "### Se lee el archivo y se obtiene la cantidad de variables (tamaño del arreglo de columnas)\n",
    "import pandas as pd\n",
    "\n",
    "data = pd.read_csv('./Saber 11 2023-2.csv', delimiter='¬', quoting=3)\n",
    "print(data.columns.size)"
   ],
   "outputs": [],
   "execution_count": null
  },
  {
   "metadata": {},
   "cell_type": "markdown",
   "source": "Por último, cabe aclarar que estos datos son, como se ha mencionado anteriormente, descargados de la página del ICFES en formato csv y están separados por el carácter ‘¬’, además, contienen una fila de encabezado con los nombres de las variables. Son, también, estructurados, ya que están organizados en filas y columnas, lo que facilita su análisis y visualización. Por último, se destaca que dentro de estos datos existen variables categóricas, numéricas, de fecha/tiempo, binarias/dicotómicas, geográficas y de identificación."
  },
  {
   "cell_type": "markdown",
   "source": [
    "## **Créditos**\n",
    "* **Profesor:** [Felipe Restrepo Calle](https://dis.unal.edu.co/~ferestrepoca/)\n",
    "* **Asistentes docentes:**\n",
    "    - [Juan Sebastián Lara Ramírez](https://www.linkedin.com/in/juan-sebastian-lara-ramirez-43570a214/).\n",
    "* **Diseño de imágenes:**\n",
    "    - [Rosa Alejandra Superlano Esquibel](mailto:rsuperlano@unal.edu.co).\n",
    "* **Coordinador de virtualización:**\n",
    "    - [Edder Hernández Forero](https://www.linkedin.com/in/edder-hernandez-forero-28aa8b207/).\n",
    "    \n",
    "**Universidad Nacional de Colombia** - *Facultad de Ingeniería*"
   ],
   "metadata": {
    "id": "ceibuW1dNH9a"
   }
  }
 ]
}
